{
 "cells": [
  {
   "cell_type": "markdown",
   "id": "26e09c6f",
   "metadata": {},
   "source": [
    "### Introduction To Python\n"
   ]
  },
  {
   "cell_type": "code",
   "execution_count": 1,
   "id": "ad566bd8",
   "metadata": {},
   "outputs": [
    {
     "name": "stdout",
     "output_type": "stream",
     "text": [
      "Hello World\n"
     ]
    }
   ],
   "source": [
    "print(\"Hello World\")"
   ]
  },
  {
   "cell_type": "markdown",
   "id": "59e8a5f1",
   "metadata": {},
   "source": [
    "### Comment"
   ]
  },
  {
   "cell_type": "code",
   "execution_count": null,
   "id": "37e4e105",
   "metadata": {},
   "outputs": [],
   "source": [
    "# This is comment \n",
    "## Usually it's use for reminder / explanation the code below or above"
   ]
  },
  {
   "cell_type": "markdown",
   "id": "e659b84a",
   "metadata": {},
   "source": [
    "### Variabel"
   ]
  },
  {
   "cell_type": "code",
   "execution_count": 2,
   "id": "c6c9ae23",
   "metadata": {},
   "outputs": [
    {
     "name": "stdout",
     "output_type": "stream",
     "text": [
      "74\n"
     ]
    }
   ],
   "source": [
    "J = 74\n",
    "print(J)"
   ]
  },
  {
   "cell_type": "code",
   "execution_count": 3,
   "id": "20f2e193",
   "metadata": {},
   "outputs": [
    {
     "name": "stdout",
     "output_type": "stream",
     "text": [
      "Hero\n"
     ]
    }
   ],
   "source": [
    "Nama = \"Hero\"\n",
    "print(Nama)"
   ]
  },
  {
   "cell_type": "markdown",
   "id": "149dcb9b",
   "metadata": {},
   "source": [
    "##### Penamaan Variabel yang tepat:"
   ]
  },
  {
   "cell_type": "code",
   "execution_count": null,
   "id": "9eb9f629",
   "metadata": {},
   "outputs": [],
   "source": [
    "Nama = 'Hero'\n",
    "Umur = 42\n",
    "Tinggi_Badan = 178\n",
    "\n",
    "TempatTanggalLahir ="
   ]
  },
  {
   "cell_type": "markdown",
   "id": "f003b6eb",
   "metadata": {},
   "source": [
    "#### Penamaan Variabel yang tidak tepat:"
   ]
  },
  {
   "cell_type": "code",
   "execution_count": null,
   "id": "ac8cbb30",
   "metadata": {},
   "outputs": [],
   "source": [
    "Tempat Tanggal Lahir =  #Mempunyai spasi diantara nya\n",
    "Ud37 = #Tidak Jelas / tidak mempunyai kepanjangan\n",
    "Status!!! = #Mempunyai karakter khusus"
   ]
  },
  {
   "cell_type": "markdown",
   "id": "ea26ba3a",
   "metadata": {},
   "source": [
    "### Tipe Data Python\n"
   ]
  },
  {
   "cell_type": "code",
   "execution_count": 8,
   "id": "c0b7c97c",
   "metadata": {},
   "outputs": [
    {
     "name": "stdout",
     "output_type": "stream",
     "text": [
      "Politeknik Negeri Semarang\n",
      "\n",
      "Convo: \n",
      "Hi B, How are you doing?, \n",
      "Hey A, I fine BTW are you getting close with C aren't ya?? \n",
      "\n",
      "Don't Givee Up , if it's feels Hard \n",
      "Push Through it\n",
      "<class 'str'>\n"
     ]
    }
   ],
   "source": [
    "# String\n",
    "\n",
    "'''\n",
    "String adalah tipe data yang berupa kata dan\n",
    "untuk mendeklarasikan tipe data menjadi string gunakan\n",
    "\n",
    "\" \" atau ' '\n",
    "\n",
    "'''\n",
    "\n",
    "Nama_Universitas = \"Politeknik Negeri Semarang\\n\"\n",
    "print(Nama_Universitas)\n",
    "\n",
    "'''\n",
    "\n",
    "Kita harus kosisten dalam menggunakan tanda petik jika tidak akan terjadi eror\n",
    "\n",
    "'''\n",
    "\n",
    "A = \"Hi B, How are you doing?\"\n",
    "B = \"Hey A, I fine BTW are you getting close with C aren't ya??\"\n",
    "Convo = (f\"Convo: \\n{A}, \\n{B} \")\n",
    "print(Convo)\n",
    "\n",
    "\n",
    "Qoutes = \"\\nDon't Givee Up , if it's feels Hard \\nPush Through it\"\n",
    "print(Qoutes)\n",
    "print(type(Qoutes))"
   ]
  },
  {
   "cell_type": "code",
   "execution_count": null,
   "id": "f7b26cfc",
   "metadata": {},
   "outputs": [],
   "source": [
    "## Numeric\n",
    "\n",
    "'''\n",
    "\n",
    "Int = 1,2,3,5  Integer adalah tipe data berupa numerik yang bilangan nya bulat atau nilai utuh\n",
    "\n",
    "Float = 3.41, 184,5, 99,313  Float adalah tipe data numerik yang mempunyai koma atau nilai desimal/pecahan\n",
    "\n",
    "Complex = 38j Bilangan Komplex seperti bilangan imajiner\n",
    "\n",
    "'''"
   ]
  },
  {
   "cell_type": "markdown",
   "id": "3e9ba3d9",
   "metadata": {},
   "source": []
  }
 ],
 "metadata": {
  "kernelspec": {
   "display_name": "base",
   "language": "python",
   "name": "python3"
  },
  "language_info": {
   "codemirror_mode": {
    "name": "ipython",
    "version": 3
   },
   "file_extension": ".py",
   "mimetype": "text/x-python",
   "name": "python",
   "nbconvert_exporter": "python",
   "pygments_lexer": "ipython3",
   "version": "3.12.4"
  }
 },
 "nbformat": 4,
 "nbformat_minor": 5
}
