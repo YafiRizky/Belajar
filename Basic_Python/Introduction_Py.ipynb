{
 "cells": [
  {
   "cell_type": "markdown",
   "id": "26e09c6f",
   "metadata": {},
   "source": [
    "### Introduction To Python\n"
   ]
  },
  {
   "cell_type": "code",
   "execution_count": 1,
   "id": "ad566bd8",
   "metadata": {},
   "outputs": [
    {
     "name": "stdout",
     "output_type": "stream",
     "text": [
      "Hello World\n"
     ]
    }
   ],
   "source": [
    "print(\"Hello World\")"
   ]
  },
  {
   "cell_type": "markdown",
   "id": "59e8a5f1",
   "metadata": {},
   "source": [
    "### Comment"
   ]
  },
  {
   "cell_type": "code",
   "execution_count": null,
   "id": "37e4e105",
   "metadata": {},
   "outputs": [],
   "source": [
    "# This is comment \n",
    "## Usually it's use for reminder / explanation the code below or above"
   ]
  },
  {
   "cell_type": "markdown",
   "id": "e659b84a",
   "metadata": {},
   "source": [
    "### Variabel"
   ]
  },
  {
   "cell_type": "code",
   "execution_count": 2,
   "id": "c6c9ae23",
   "metadata": {},
   "outputs": [
    {
     "name": "stdout",
     "output_type": "stream",
     "text": [
      "74\n"
     ]
    }
   ],
   "source": [
    "J = 74\n",
    "print(J)"
   ]
  },
  {
   "cell_type": "code",
   "execution_count": 3,
   "id": "20f2e193",
   "metadata": {},
   "outputs": [
    {
     "name": "stdout",
     "output_type": "stream",
     "text": [
      "Hero\n"
     ]
    }
   ],
   "source": [
    "Nama = \"Hero\"\n",
    "print(Nama)"
   ]
  },
  {
   "cell_type": "markdown",
   "id": "149dcb9b",
   "metadata": {},
   "source": [
    "##### Penamaan Variabel yang tepat:"
   ]
  },
  {
   "cell_type": "code",
   "execution_count": null,
   "id": "9eb9f629",
   "metadata": {},
   "outputs": [],
   "source": [
    "Nama = 'Hero'\n",
    "Umur = 42\n",
    "Tinggi_Badan = 178\n",
    "\n",
    "TempatTanggalLahir ="
   ]
  },
  {
   "cell_type": "markdown",
   "id": "f003b6eb",
   "metadata": {},
   "source": [
    "#### Penamaan Variabel yang tidak tepat:"
   ]
  },
  {
   "cell_type": "code",
   "execution_count": null,
   "id": "ac8cbb30",
   "metadata": {},
   "outputs": [],
   "source": [
    "Tempat Tanggal Lahir =  #Mempunyai spasi diantara nya\n",
    "Ud37 = #Tidak Jelas / tidak mempunyai kepanjangan\n",
    "Status!!! = #Mempunyai karakter khusus"
   ]
  },
  {
   "cell_type": "markdown",
   "id": "ea26ba3a",
   "metadata": {},
   "source": [
    "### Tipe Data Python\n"
   ]
  },
  {
   "cell_type": "code",
   "execution_count": 8,
   "id": "c0b7c97c",
   "metadata": {},
   "outputs": [
    {
     "name": "stdout",
     "output_type": "stream",
     "text": [
      "Politeknik Negeri Semarang\n",
      "\n",
      "Convo: \n",
      "Hi B, How are you doing?, \n",
      "Hey A, I fine BTW are you getting close with C aren't ya?? \n",
      "\n",
      "Don't Givee Up , if it's feels Hard \n",
      "Push Through it\n",
      "<class 'str'>\n"
     ]
    }
   ],
   "source": [
    "# String\n",
    "\n",
    "'''\n",
    "String adalah tipe data yang berupa kata dan\n",
    "untuk mendeklarasikan tipe data menjadi string gunakan\n",
    "\n",
    "\" \" atau ' '\n",
    "\n",
    "'''\n",
    "\n",
    "Nama_Universitas = \"Politeknik Negeri Semarang\\n\"\n",
    "print(Nama_Universitas)\n",
    "\n",
    "'''\n",
    "\n",
    "Kita harus kosisten dalam menggunakan tanda petik jika tidak akan terjadi eror\n",
    "\n",
    "'''\n",
    "\n",
    "A = \"Hi B, How are you doing?\"\n",
    "B = \"Hey A, I fine BTW are you getting close with C aren't ya??\"\n",
    "Convo = (f\"Convo: \\n{A}, \\n{B} \")\n",
    "print(Convo)\n",
    "\n",
    "\n",
    "Qoutes = \"\\nDon't Givee Up , if it's feels Hard \\nPush Through it\"\n",
    "print(Qoutes)\n",
    "print(type(Qoutes))"
   ]
  },
  {
   "cell_type": "code",
   "execution_count": 9,
   "id": "f7b26cfc",
   "metadata": {},
   "outputs": [],
   "source": [
    "## Numeric\n",
    "\n",
    "'''\n",
    "\n",
    "Int = 1,2,3,5  Integer adalah tipe data berupa numerik yang bilangan nya bulat atau nilai utuh\n",
    "\n",
    "Float = 3.41, 184,5, 99,313  Float adalah tipe data numerik yang mempunyai koma atau nilai desimal/pecahan\n",
    "\n",
    "Complex = 38j Bilangan Komplex seperti bilangan imajiner\n",
    "\n",
    "'''\n",
    "\n",
    "\n",
    "# Integer\n",
    "\n",
    "tahun = 2025\n",
    "BulanKe = 7\n",
    "tanggal = 23\n",
    "\n",
    "\n",
    "# Float \n",
    "volume_pi = 3.14\n",
    "tinggi_badan = 175.6\n",
    "berat_badan = 85.7\n",
    "suhu = 35.1\n",
    "\n",
    "# Complex\n",
    "a = 4 + 8j\n",
    "b = 7\n",
    "c = complex(3, -1)\n"
   ]
  },
  {
   "cell_type": "code",
   "execution_count": null,
   "id": "044efedc",
   "metadata": {},
   "outputs": [
    {
     "name": "stdout",
     "output_type": "stream",
     "text": [
      "\n",
      "Tipe Data A = <class 'list'>\n",
      "\n",
      "Isi A: [13, 41, 15, 9, 31, 31]\n",
      "Isi A_1: ['Hai', 'Hello', 'Ola', 'Bonjour']\n",
      "Isi A_2: [15, 'Jack', 'Reaper', 38.4]\n"
     ]
    }
   ],
   "source": [
    "### Sequence Types / Urutan(ordered)\n",
    "\n",
    "'''\n",
    "Semua Sequence Types dapat menampung banyak data\n",
    "'''\n",
    "\n",
    "# List:\n",
    "A = [13, 41, 15, 9, 31, 31] \n",
    "A_1 = [\"Hai\", \"Hello\", \"Ola\", \"Bonjour\"]\n",
    "A_2 = [15, \"Jack\", \"Reaper\", 38.4]\n",
    "print(f\"\\nTipe Data A = {type(A)}\\n\")\n",
    "print(f\"Isi A: {A}\")\n",
    "print(f\"Isi A_1: {A_1}\")\n",
    "print(f\"Isi A_2: {A_2}\")\n",
    "\n",
    "\n",
    "'''\n",
    "Bisa diubah (mutable)\n",
    "\n",
    "Tersusun secara urut (ordered)\n",
    "\n",
    "Boleh memiliki elemen duplikat\n",
    "\n",
    "Bisa berisi berbagai tipe data (int, float, string, dll)\n",
    "'''\n"
   ]
  },
  {
   "cell_type": "code",
   "execution_count": 25,
   "id": "42c6f1b0",
   "metadata": {},
   "outputs": [
    {
     "name": "stdout",
     "output_type": "stream",
     "text": [
      "0\n",
      "2\n",
      "4\n",
      "6\n",
      "8\n",
      "0 1 2 3 4 5 6 7 \n",
      "Angka yang dicari adalah: 7\n"
     ]
    }
   ],
   "source": [
    "## Range\n",
    "\n",
    "''''\n",
    "\n",
    "Usually used in loops and for count an number or index\n",
    "\n",
    "'''\n",
    "\n",
    "for i in range(0, 10, 2):\n",
    "    print(i)\n",
    "\n",
    "\n",
    "###\n",
    "\n",
    "number_start = 0\n",
    "number_end = 13\n",
    "target = 7\n",
    "for i in range(number_start, number_end):\n",
    "    print(i ,end=' ')\n",
    "    if i == target:\n",
    "        print(f\"\\nAngka yang dicari adalah: {target}\")\n",
    "        break"
   ]
  },
  {
   "cell_type": "code",
   "execution_count": 29,
   "id": "87ed54b6",
   "metadata": {},
   "outputs": [
    {
     "name": "stdout",
     "output_type": "stream",
     "text": [
      "<class 'tuple'>\n",
      "\n",
      "Usia Pria 52 ada: 2\n",
      "\n",
      "Usia Pria 19 ada: 2\n"
     ]
    }
   ],
   "source": [
    "# Tuple\n",
    "\n",
    "'''\n",
    "\n",
    "Menggunakan () , Tidak dapat dirubah, Urut, Memiliki nilai duplikat\n",
    "\n",
    "'''\n",
    "\n",
    "nama = ('Anto', 'Budi', 'Cahaya', 'Dani', 'Eci')\n",
    "print(type(nama))\n",
    "\n",
    "\n",
    "# Contoh Method dengan tuple:\n",
    "\n",
    "usia = (52, 19, 20, 48, 31, 19, 18, 17, 48, 44, 52)\n",
    "\n",
    "print(f\"\\nUsia Pria 52 ada: {usia.count(52)}\")\n",
    "print(f\"\\nUsia Pria 19 ada: {usia.count(19)}\")"
   ]
  },
  {
   "cell_type": "markdown",
   "id": "fd62f242",
   "metadata": {},
   "source": [
    "### Mapping & Set Type"
   ]
  },
  {
   "cell_type": "code",
   "execution_count": null,
   "id": "7def5c5b",
   "metadata": {},
   "outputs": [
    {
     "name": "stdout",
     "output_type": "stream",
     "text": [
      "{'Nama': 'Yafi', 'Usia': 20, 'Kelamin': 'Laki-Laki'}\n",
      "Laki-Laki\n",
      "3\n"
     ]
    }
   ],
   "source": [
    "## Dict (Dictionaries)\n",
    "\n",
    "info = {\n",
    "    \"Nama\": \"Yafi\",\n",
    "    \"Usia\": 20,\n",
    "    \"Kelamin\": \"Laki-Laki\"\n",
    "}\n",
    "\n",
    "print(info)\n",
    "\n",
    "\n",
    "\n",
    "''''\n",
    "\n",
    "Dictionaries itu Urut, Dapat diubah, Dan tidak memperbolehkan duplikat\n",
    "\n",
    "'''\n",
    "\n",
    "print(info[\"Kelamin\"])\n",
    "\n",
    "print(len(info)) ## Print banyak nya items pada dict"
   ]
  },
  {
   "cell_type": "code",
   "execution_count": 34,
   "id": "05be2297",
   "metadata": {},
   "outputs": [
    {
     "name": "stdout",
     "output_type": "stream",
     "text": [
      "Perempuan\n"
     ]
    }
   ],
   "source": [
    "info = {\n",
    "    \"Nama\": \"Yafi\",\n",
    "    \"Usia\": 20,\n",
    "    \"Kelamin\": \"Laki-Laki\",\n",
    "    \"Kelamin\": \"Perempuan\"\n",
    "}\n",
    "\n",
    "print(info[\"Kelamin\"])"
   ]
  },
  {
   "cell_type": "markdown",
   "id": "4262e1c8",
   "metadata": {},
   "source": [
    "##### Akan Overwrite value sebelumnya"
   ]
  },
  {
   "cell_type": "code",
   "execution_count": 38,
   "id": "6a0b03f2",
   "metadata": {},
   "outputs": [
    {
     "name": "stdout",
     "output_type": "stream",
     "text": [
      "['Green Bronze Metallic', 'Quartz White Pearl', 'Jet Black Mica']\n",
      "\n",
      "['Premium CVT', 'MT']\n",
      "5\n"
     ]
    }
   ],
   "source": [
    "Mobil = {\n",
    "    \"Merk\": \"Mitsubishi\",\n",
    "    \"Nama Mobil\": \"Xpander Cross\",\n",
    "    \"Tahun Keluaran\": 2024,\n",
    "    \"Varian Warna\": ['Green Bronze Metallic', 'Quartz White Pearl', 'Jet Black Mica'],\n",
    "    \"Varian\": [\"Premium CVT\", \"MT\"]\n",
    "}\n",
    "\n",
    "print(Mobil[\"Varian Warna\"])\n",
    "print(f\"\\n{Mobil[\"Varian\"]}\")\n",
    "print(len(Mobil))"
   ]
  },
  {
   "cell_type": "code",
   "execution_count": null,
   "id": "8b94f6ea",
   "metadata": {},
   "outputs": [],
   "source": []
  }
 ],
 "metadata": {
  "kernelspec": {
   "display_name": "base",
   "language": "python",
   "name": "python3"
  },
  "language_info": {
   "codemirror_mode": {
    "name": "ipython",
    "version": 3
   },
   "file_extension": ".py",
   "mimetype": "text/x-python",
   "name": "python",
   "nbconvert_exporter": "python",
   "pygments_lexer": "ipython3",
   "version": "3.12.4"
  }
 },
 "nbformat": 4,
 "nbformat_minor": 5
}
