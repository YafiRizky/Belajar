{
 "cells": [
  {
   "cell_type": "markdown",
   "id": "9cf4009c",
   "metadata": {},
   "source": [
    "## String Deep Understanding"
   ]
  },
  {
   "cell_type": "code",
   "execution_count": 3,
   "id": "3f2b4776",
   "metadata": {},
   "outputs": [
    {
     "name": "stdout",
     "output_type": "stream",
     "text": [
      "Hello, World!\n"
     ]
    }
   ],
   "source": [
    "print(\"Hello, World!\")\n"
   ]
  },
  {
   "cell_type": "markdown",
   "id": "852e860e",
   "metadata": {},
   "source": [
    "## Using qoutes inside a string"
   ]
  },
  {
   "cell_type": "code",
   "execution_count": 2,
   "id": "eeb7cae0",
   "metadata": {},
   "outputs": [
    {
     "name": "stdout",
     "output_type": "stream",
     "text": [
      "\n",
      "Hello John, Siri says that you \"Happy\" is that true?\n"
     ]
    }
   ],
   "source": [
    "a = '\\nHello John, Siri says that you \"Happy\" is that true?'\n",
    "print(a)"
   ]
  },
  {
   "cell_type": "markdown",
   "id": "13142c0e",
   "metadata": {},
   "source": [
    "### Using 3 qoutation mark"
   ]
  },
  {
   "cell_type": "code",
   "execution_count": 4,
   "id": "d433f021",
   "metadata": {},
   "outputs": [
    {
     "name": "stdout",
     "output_type": "stream",
     "text": [
      "Lorem ipsum dolor sit amet,\n",
      "consectetur adipiscing elit,\n",
      "sed do eiusmod tempor incididunt\n",
      "ut labore et dolore magna aliqua.\n"
     ]
    }
   ],
   "source": [
    "b = \"\"\"Lorem ipsum dolor sit amet,\n",
    "consectetur adipiscing elit,\n",
    "sed do eiusmod tempor incididunt\n",
    "ut labore et dolore magna aliqua.\"\"\"\n",
    "print(b)"
   ]
  },
  {
   "cell_type": "markdown",
   "id": "9005abee",
   "metadata": {},
   "source": [
    "### String is array"
   ]
  },
  {
   "cell_type": "code",
   "execution_count": null,
   "id": "32dbb794",
   "metadata": {},
   "outputs": [
    {
     "name": "stdout",
     "output_type": "stream",
     "text": [
      "B\n",
      "Begone thou foul demon!\n"
     ]
    }
   ],
   "source": [
    "King = \"Begone thou foul demon!\"\n",
    "print(King[0])\n",
    "\n",
    "print(f\"{King[0:]}\")  "
   ]
  },
  {
   "cell_type": "markdown",
   "id": "caaa5ce3",
   "metadata": {},
   "source": [
    "### Looping with string"
   ]
  },
  {
   "cell_type": "code",
   "execution_count": 7,
   "id": "b38a7c30",
   "metadata": {},
   "outputs": [
    {
     "name": "stdout",
     "output_type": "stream",
     "text": [
      "B\n",
      "e\n",
      "g\n",
      "o\n",
      "n\n",
      "e\n",
      " \n",
      "t\n",
      "h\n",
      "o\n",
      "u\n",
      " \n",
      "f\n",
      "o\n",
      "u\n",
      "l\n",
      " \n",
      "d\n",
      "e\n",
      "m\n",
      "o\n",
      "n\n",
      "!\n"
     ]
    }
   ],
   "source": [
    "for i in King:\n",
    "    print(i)"
   ]
  },
  {
   "cell_type": "code",
   "execution_count": 8,
   "id": "68b48bfe",
   "metadata": {},
   "outputs": [
    {
     "name": "stdout",
     "output_type": "stream",
     "text": [
      "H\n",
      "e\n",
      "r\n",
      "o\n"
     ]
    }
   ],
   "source": [
    "for i in \"Hero\":\n",
    "    print(i)"
   ]
  },
  {
   "cell_type": "markdown",
   "id": "2366d50c",
   "metadata": {},
   "source": [
    "### To check Length of the string\n"
   ]
  },
  {
   "cell_type": "code",
   "execution_count": 9,
   "id": "4f4d80ba",
   "metadata": {},
   "outputs": [
    {
     "name": "stdout",
     "output_type": "stream",
     "text": [
      "How much word that king say the other day: 23\n"
     ]
    }
   ],
   "source": [
    "print(f\"How much word that king say the other day: {len(King)}\")"
   ]
  },
  {
   "cell_type": "markdown",
   "id": "ee9cc50e",
   "metadata": {},
   "source": [
    "### Check if there targeted string inside a variabel"
   ]
  },
  {
   "cell_type": "code",
   "execution_count": null,
   "id": "b3f46077",
   "metadata": {},
   "outputs": [
    {
     "name": "stdout",
     "output_type": "stream",
     "text": [
      "You better prepare\n"
     ]
    }
   ],
   "source": [
    "message = \"Don't be such a fool!. I will kill you without mercy\"\n",
    "threat = (\"fool\", \"I will kill you without mercy\")\n",
    "if any(dt in message for dt in threat):\n",
    "    print(\"You better prepare\")\n",
    "else:\n",
    "    print(\"Huh pity scroundel\")"
   ]
  },
  {
   "cell_type": "code",
   "execution_count": 12,
   "id": "b39223d5",
   "metadata": {},
   "outputs": [
    {
     "name": "stdout",
     "output_type": "stream",
     "text": [
      "This is not a love proposal\n"
     ]
    }
   ],
   "source": [
    "if \"Love\" not in message:\n",
    "    print(\"This is not a love proposal\")\n",
    "else:\n",
    "    print(\"Weirdo\")"
   ]
  },
  {
   "cell_type": "markdown",
   "id": "50dfe57a",
   "metadata": {},
   "source": [
    "### Slicing String"
   ]
  },
  {
   "cell_type": "code",
   "execution_count": 17,
   "id": "45a3965a",
   "metadata": {},
   "outputs": [
    {
     "name": "stdout",
     "output_type": "stream",
     "text": [
      "what is the first sentence from the variabel above?: Hello\n",
      "Hello\n"
     ]
    }
   ],
   "source": [
    "word = \"Hello Everyone\"\n",
    "print(f'what is the first sentence from the variabel above?: {word[0:5]}')\n",
    "print(word[:5])"
   ]
  },
  {
   "cell_type": "markdown",
   "id": "c9dd0610",
   "metadata": {},
   "source": [
    "#### Using Slicing Method"
   ]
  },
  {
   "cell_type": "code",
   "execution_count": null,
   "id": "6d0266d1",
   "metadata": {},
   "outputs": [],
   "source": [
    "# variabel_name[start:stop:step] \n",
    "\n",
    "''''\n",
    "\n",
    "space or whitespace is count as 1 in index \n",
    "and the count is from 0\n",
    "\n",
    "'''"
   ]
  },
  {
   "cell_type": "markdown",
   "id": "e338d436",
   "metadata": {},
   "source": [
    "#### Using negative index"
   ]
  },
  {
   "cell_type": "code",
   "execution_count": 28,
   "id": "7cca3fc4",
   "metadata": {},
   "outputs": [
    {
     "name": "stdout",
     "output_type": "stream",
     "text": [
      "Everyone\n"
     ]
    }
   ],
   "source": [
    "print(word[-8:]) #Hello Everyone"
   ]
  },
  {
   "cell_type": "markdown",
   "id": "73602abd",
   "metadata": {},
   "source": [
    "## Modify String"
   ]
  },
  {
   "cell_type": "markdown",
   "id": "27964021",
   "metadata": {},
   "source": [
    "#### Upper Case"
   ]
  },
  {
   "cell_type": "code",
   "execution_count": 31,
   "id": "ae122b56",
   "metadata": {},
   "outputs": [
    {
     "name": "stdout",
     "output_type": "stream",
     "text": [
      "I PUT THIS IN LOWER\n"
     ]
    }
   ],
   "source": [
    "A = \"i put this in lower\"\n",
    "print(A.upper())"
   ]
  },
  {
   "cell_type": "code",
   "execution_count": 32,
   "id": "2cb0480a",
   "metadata": {},
   "outputs": [
    {
     "name": "stdout",
     "output_type": "stream",
     "text": [
      "i put this in lower\n"
     ]
    }
   ],
   "source": [
    "B = \"I PUT THIS ON UPPER\"\n",
    "print(A.lower())"
   ]
  },
  {
   "cell_type": "markdown",
   "id": "87e1c7b4",
   "metadata": {},
   "source": [
    "#### Remove Whitespace"
   ]
  },
  {
   "cell_type": "code",
   "execution_count": 42,
   "id": "705ae667",
   "metadata": {},
   "outputs": [
    {
     "name": "stdout",
     "output_type": "stream",
     "text": [
      "        nice joke dimitri    \n"
     ]
    }
   ],
   "source": [
    "A = \"        nice joke dimitri    \"\n",
    "print(A)"
   ]
  },
  {
   "cell_type": "code",
   "execution_count": 43,
   "id": "9002d734",
   "metadata": {},
   "outputs": [
    {
     "name": "stdout",
     "output_type": "stream",
     "text": [
      "nice joke dimitri\n"
     ]
    }
   ],
   "source": [
    "print(A.strip())"
   ]
  },
  {
   "cell_type": "code",
   "execution_count": 44,
   "id": "8ff7ecae",
   "metadata": {},
   "outputs": [
    {
     "name": "stdout",
     "output_type": "stream",
     "text": [
      ">>>>>WELCOME<<<<<\n"
     ]
    }
   ],
   "source": [
    "welcome = \">>>>>WELCOME<<<<<\"\n",
    "print(welcome)"
   ]
  },
  {
   "cell_type": "code",
   "execution_count": 46,
   "id": "b0bc9224",
   "metadata": {},
   "outputs": [
    {
     "name": "stdout",
     "output_type": "stream",
     "text": [
      "WELCOME\n"
     ]
    }
   ],
   "source": [
    "print(welcome.strip('><'))"
   ]
  },
  {
   "cell_type": "markdown",
   "id": "2df74c7f",
   "metadata": {},
   "source": [
    "#### Replace String"
   ]
  },
  {
   "cell_type": "code",
   "execution_count": null,
   "id": "f2b0aae6",
   "metadata": {},
   "outputs": [
    {
     "name": "stdout",
     "output_type": "stream",
     "text": [
      "Hello There\n"
     ]
    }
   ],
   "source": [
    "mispelled = \"Jello There\"\n",
    "print(mispelled.replace('J', 'H')) #('OLD', 'NEW')"
   ]
  },
  {
   "cell_type": "code",
   "execution_count": 48,
   "id": "85e98967",
   "metadata": {},
   "outputs": [
    {
     "name": "stdout",
     "output_type": "stream",
     "text": [
      "Banana\n"
     ]
    }
   ],
   "source": [
    "fruits = \"Bonono\"\n",
    "print(fruits.replace('o', 'a'))"
   ]
  },
  {
   "cell_type": "code",
   "execution_count": 50,
   "id": "d938a0f4",
   "metadata": {},
   "outputs": [
    {
     "name": "stdout",
     "output_type": "stream",
     "text": [
      "Mango\n"
     ]
    }
   ],
   "source": [
    "mispelled_fruits = \"Mongy\"\n",
    "print(mispelled_fruits.replace('o', 'a').replace('y', 'o'))"
   ]
  },
  {
   "cell_type": "code",
   "execution_count": null,
   "id": "34f8cbfa",
   "metadata": {},
   "outputs": [
    {
     "name": "stdout",
     "output_type": "stream",
     "text": [
      "Original string: Hello World!\n",
      "Translated string: Jella Warld\n"
     ]
    }
   ],
   "source": [
    "original_string = \"Hello World!\"\n",
    "\n",
    "# Buat tabel translasi: H → J, o → a; hapus !\n",
    "translation_table = str.maketrans(\"Ho\", \"Ja\", \"!\")  # (\"old\", \"new\", \"delete\")\n",
    "\n",
    "# Terapkan translasi\n",
    "translated_string = original_string.translate(translation_table)\n",
    "\n",
    "print(f\"Original string: {original_string}\")\n",
    "print(f\"Translated string: {translated_string}\")\n"
   ]
  },
  {
   "cell_type": "code",
   "execution_count": 53,
   "id": "7d920a82",
   "metadata": {},
   "outputs": [
    {
     "name": "stdout",
     "output_type": "stream",
     "text": [
      "['Hello,', 'World!', 'How', 'are', 'you?']\n"
     ]
    }
   ],
   "source": [
    "split_string = \"Hello, World! How are you?\"\n",
    "print(split_string.split())  "
   ]
  },
  {
   "cell_type": "markdown",
   "id": "f21cbf0a",
   "metadata": {},
   "source": [
    "### String concate [Penggabungan antara string]"
   ]
  },
  {
   "cell_type": "code",
   "execution_count": 1,
   "id": "0905ac4a",
   "metadata": {},
   "outputs": [
    {
     "name": "stdout",
     "output_type": "stream",
     "text": [
      "AyahIbu\n"
     ]
    }
   ],
   "source": [
    "a = \"Ayah\"\n",
    "b = \"Ibu\"\n",
    "ortu = a + b\n",
    "print(ortu)  "
   ]
  },
  {
   "cell_type": "code",
   "execution_count": 5,
   "id": "6c54fa94",
   "metadata": {},
   "outputs": [
    {
     "name": "stdout",
     "output_type": "stream",
     "text": [
      "Ayah Ibu\n"
     ]
    }
   ],
   "source": [
    "ortu = a + \" \" + b\n",
    "print(ortu)"
   ]
  },
  {
   "cell_type": "markdown",
   "id": "33330a1c",
   "metadata": {},
   "source": [
    "### Formatting"
   ]
  },
  {
   "cell_type": "code",
   "execution_count": 7,
   "id": "5fbab6ad",
   "metadata": {},
   "outputs": [
    {
     "ename": "TypeError",
     "evalue": "can only concatenate str (not \"int\") to str",
     "output_type": "error",
     "traceback": [
      "\u001b[1;31m---------------------------------------------------------------------------\u001b[0m",
      "\u001b[1;31mTypeError\u001b[0m                                 Traceback (most recent call last)",
      "Cell \u001b[1;32mIn[7], line 3\u001b[0m\n\u001b[0;32m      1\u001b[0m usia \u001b[38;5;241m=\u001b[39m \u001b[38;5;241m20\u001b[39m\n\u001b[0;32m      2\u001b[0m nama \u001b[38;5;241m=\u001b[39m \u001b[38;5;124m\"\u001b[39m\u001b[38;5;124mJansen\u001b[39m\u001b[38;5;124m\"\u001b[39m\n\u001b[1;32m----> 3\u001b[0m \u001b[38;5;28mprint\u001b[39m(\u001b[38;5;124;43m\"\u001b[39;49m\u001b[38;5;124;43mNamaku adalah \u001b[39;49m\u001b[38;5;124;43m\"\u001b[39;49m\u001b[38;5;241;43m+\u001b[39;49m\u001b[43m \u001b[49m\u001b[43mnama\u001b[49m\u001b[43m  \u001b[49m\u001b[38;5;241;43m+\u001b[39;49m\u001b[38;5;124;43m\"\u001b[39;49m\u001b[38;5;124;43m dan usia ku \u001b[39;49m\u001b[38;5;124;43m\"\u001b[39;49m\u001b[43m \u001b[49m\u001b[38;5;241;43m+\u001b[39;49m\u001b[43m \u001b[49m\u001b[43musia\u001b[49m)\n",
      "\u001b[1;31mTypeError\u001b[0m: can only concatenate str (not \"int\") to str"
     ]
    }
   ],
   "source": [
    "usia = 20\n",
    "nama = \"Jansen\"\n",
    "print(\"Namaku adalah \"+ nama  +\" dan usia ku \" + usia)"
   ]
  },
  {
   "cell_type": "code",
   "execution_count": 12,
   "id": "116ab50b",
   "metadata": {},
   "outputs": [
    {
     "name": "stdout",
     "output_type": "stream",
     "text": [
      "Namaku adalah Jansendan usia ku saat ini adalah 20\n"
     ]
    }
   ],
   "source": [
    "print(\"Namaku adalah \" + nama + \"dan usia ku saat ini adalah \"+ str(usia))"
   ]
  },
  {
   "cell_type": "markdown",
   "id": "74c0fa90",
   "metadata": {},
   "source": [
    "#### Atau menggunakan f string"
   ]
  },
  {
   "cell_type": "code",
   "execution_count": 13,
   "id": "f799bd0c",
   "metadata": {},
   "outputs": [
    {
     "name": "stdout",
     "output_type": "stream",
     "text": [
      "Namaku adalah Jansen dan usia ku saat ini 20\n"
     ]
    }
   ],
   "source": [
    "print(f\"Namaku adalah {nama} dan usia ku saat ini {usia}\")"
   ]
  },
  {
   "cell_type": "code",
   "execution_count": 19,
   "id": "3b05c455",
   "metadata": {},
   "outputs": [
    {
     "name": "stdout",
     "output_type": "stream",
     "text": [
      "Harga pisang ini adalah 15.000\n"
     ]
    }
   ],
   "source": [
    "pisang = 15\n",
    "print(f\"Harga pisang ini adalah {pisang:.3f}\")"
   ]
  },
  {
   "cell_type": "code",
   "execution_count": 21,
   "id": "9ac300eb",
   "metadata": {},
   "outputs": [
    {
     "name": "stdout",
     "output_type": "stream",
     "text": [
      "saya membeli 3 pasak pisang, artinya saya harus membayar 45 ribu\n"
     ]
    }
   ],
   "source": [
    "print(f\"saya membeli 3 pasak pisang, artinya saya harus membayar {pisang * 3} ribu\")"
   ]
  },
  {
   "cell_type": "markdown",
   "id": "a66b1ae2",
   "metadata": {},
   "source": [
    "#### Escape Character"
   ]
  },
  {
   "cell_type": "code",
   "execution_count": 22,
   "id": "6c98b82c",
   "metadata": {},
   "outputs": [
    {
     "ename": "SyntaxError",
     "evalue": "invalid syntax (4098810341.py, line 1)",
     "output_type": "error",
     "traceback": [
      "\u001b[1;36m  Cell \u001b[1;32mIn[22], line 1\u001b[1;36m\u001b[0m\n\u001b[1;33m    text = \"Kita adalah \"kesatuan\" dari negara kita yaitu Indonesia\"\u001b[0m\n\u001b[1;37m                         ^\u001b[0m\n\u001b[1;31mSyntaxError\u001b[0m\u001b[1;31m:\u001b[0m invalid syntax\n"
     ]
    }
   ],
   "source": [
    "text = \"Kita adalah \"kesatuan\" dari negara kita yaitu Indonesia\"\n",
    "print(text)"
   ]
  },
  {
   "cell_type": "markdown",
   "id": "7750fcf4",
   "metadata": {},
   "source": [
    "##### dapat menggunakan seperti contoh dibawah"
   ]
  },
  {
   "cell_type": "code",
   "execution_count": 23,
   "id": "65b50a71",
   "metadata": {},
   "outputs": [
    {
     "name": "stdout",
     "output_type": "stream",
     "text": [
      "Kita adalah \"kesatuan\" dari negara kita yaitu Indonesia\n"
     ]
    }
   ],
   "source": [
    "text = 'Kita adalah \"kesatuan\" dari negara kita yaitu Indonesia'\n",
    "print(text)"
   ]
  },
  {
   "cell_type": "code",
   "execution_count": 26,
   "id": "082e9b4d",
   "metadata": {},
   "outputs": [
    {
     "name": "stdout",
     "output_type": "stream",
     "text": [
      "Kita adalah \"kesatuan\" dari negara kita yaitu Indonesia\n"
     ]
    }
   ],
   "source": [
    "text = \"Kita adalah \\\"kesatuan\\\" dari negara kita yaitu Indonesia\"\n",
    "print(text)"
   ]
  },
  {
   "cell_type": "markdown",
   "id": "e81e2b85",
   "metadata": {},
   "source": [
    "### Escape Characters in Python\n",
    "\n",
    "| Code    | Result            | Description             |\n",
    "|---------|-------------------|-------------------------|\n",
    "| `\\'`    | `'`               | Single Quote            |\n",
    "| `\\\\`    | `\\`               | Backslash               |\n",
    "| `\\n`    | New Line          | Line break              |\n",
    "| `\\r`    | Carriage Return   | Moves cursor to start   |\n",
    "| `\\t`    | Tab               | Horizontal tab          |\n",
    "| `\\b`    | Backspace         | Deletes previous char   |\n",
    "| `\\f`    | Form Feed         | New page (printer ctrl) |\n",
    "| `\\ooo`  | Octal Value       | Character from octal    |\n",
    "| `\\xhh`  | Hex Value         | Character from hex      |\n"
   ]
  },
  {
   "cell_type": "markdown",
   "id": "9b91019f",
   "metadata": {},
   "source": [
    "## String Methods"
   ]
  },
  {
   "cell_type": "markdown",
   "id": "de0a0805",
   "metadata": {},
   "source": [
    "### Python String Methods\n",
    "\n",
    "| Method         | Description                                                              |\n",
    "|----------------|---------------------------------------------------------------------------|\n",
    "| `capitalize()` | Converts the first character to upper case                               |\n",
    "| `casefold()`   | Converts string into lower case                                           |\n",
    "| `center()`     | Returns a centered string                                                 |\n",
    "| `count()`      | Returns the number of times a specified value occurs in a string         |\n",
    "| `encode()`     | Returns an encoded version of the string                                 |\n",
    "| `endswith()`   | Returns `True` if the string ends with the specified value               |\n",
    "| `expandtabs()` | Sets the tab size of the string                                           |\n",
    "| `find()`       | Returns the position of first occurrence of a specified value            |\n",
    "| `format()`     | Formats specified values in a string                                      |\n",
    "| `format_map()` | Formats specified values in a string                                      |\n",
    "| `index()`      | Returns the position of first occurrence of a specified value            |\n",
    "| `isalnum()`    | Returns `True` if all characters are alphanumeric                        |\n",
    "| `isalpha()`    | Returns `True` if all characters are alphabetic                          |\n",
    "| `isascii()`    | Returns `True` if all characters are ASCII                                |\n",
    "| `isdecimal()`  | Returns `True` if all characters are decimals                             |\n",
    "| `isdigit()`    | Returns `True` if all characters are digits                               |\n",
    "| `isidentifier()` | Returns `True` if the string is a valid identifier                     |\n",
    "| `islower()`    | Returns `True` if all characters are lowercase                            |\n",
    "| `isnumeric()`  | Returns `True` if all characters are numeric                              |\n",
    "| `isprintable()`| Returns `True` if all characters are printable                            |\n",
    "| `isspace()`    | Returns `True` if all characters are whitespace                           |\n",
    "| `istitle()`    | Returns `True` if the string follows title case                           |\n",
    "| `isupper()`    | Returns `True` if all characters are uppercase                            |\n",
    "| `join()`       | Joins the elements of an iterable with the string as separator            |\n",
    "| `ljust()`      | Returns a left justified string                                           |\n",
    "| `lower()`      | Converts all characters to lowercase                                      |\n",
    "| `lstrip()`     | Removes leading whitespaces                                               |\n",
    "| `maketrans()`  | Returns a translation table                                               |\n",
    "| `partition()`  | Splits the string into three parts                                        |\n",
    "| `replace()`    | Replaces a specified value with another                                   |\n",
    "| `rfind()`      | Returns the last position of a specified value                            |\n",
    "| `rindex()`     | Returns the last position of a specified value                            |\n",
    "| `rjust()`      | Returns a right justified string                                          |\n",
    "| `rpartition()` | Splits the string into three parts, starting from the right               |\n",
    "| `rsplit()`     | Splits the string from the right                                          |\n",
    "| `rstrip()`     | Removes trailing whitespaces                                              |\n",
    "| `split()`      | Splits the string at the specified separator                              |\n",
    "| `splitlines()` | Splits the string at line breaks                                          |\n",
    "| `startswith()` | Returns `True` if the string starts with the specified value              |\n",
    "| `strip()`      | Removes both leading and trailing whitespaces                            |\n",
    "| `swapcase()`   | Swaps uppercase to lowercase and vice versa                               |\n",
    "| `title()`      | Converts the first character of each word to uppercase                    |\n",
    "| `translate()`  | Returns a translated string                                               |\n",
    "| `upper()`      | Converts all characters to uppercase                                      |\n",
    "| `zfill()`      | Pads the string on the left with zeros to reach the specified width       |\n"
   ]
  }
 ],
 "metadata": {
  "kernelspec": {
   "display_name": "base",
   "language": "python",
   "name": "python3"
  },
  "language_info": {
   "codemirror_mode": {
    "name": "ipython",
    "version": 3
   },
   "file_extension": ".py",
   "mimetype": "text/x-python",
   "name": "python",
   "nbconvert_exporter": "python",
   "pygments_lexer": "ipython3",
   "version": "3.12.4"
  }
 },
 "nbformat": 4,
 "nbformat_minor": 5
}
