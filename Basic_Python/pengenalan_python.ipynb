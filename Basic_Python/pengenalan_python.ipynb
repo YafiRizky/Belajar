{
 "cells": [
  {
   "cell_type": "markdown",
   "id": "66985b18",
   "metadata": {},
   "source": [
    "### Intro"
   ]
  },
  {
   "cell_type": "code",
   "execution_count": 11,
   "id": "4a1f03bd",
   "metadata": {},
   "outputs": [
    {
     "name": "stdout",
     "output_type": "stream",
     "text": [
      "Hello, World!\n",
      "I just started focus on Data Science\n"
     ]
    }
   ],
   "source": [
    "## Pengenalan Python\n",
    "\n",
    "print('Hello, World!')\n",
    "print(\"I just started focus on Data Science\")\n",
    "\n",
    "## dalam menggunakan print kita perlu menggunakan tanda petik ' atau \""
   ]
  },
  {
   "cell_type": "markdown",
   "id": "06e3e147",
   "metadata": {},
   "source": [
    "#### Indentasi"
   ]
  },
  {
   "cell_type": "code",
   "execution_count": 12,
   "id": "2bcaab0a",
   "metadata": {},
   "outputs": [
    {
     "name": "stdout",
     "output_type": "stream",
     "text": [
      "Hasil penjumlahan 5 dan 10 adalah 15\n"
     ]
    }
   ],
   "source": [
    "## Indentasi dalam python sangat penting\n",
    "\n",
    "def penjumlahan(a, b):\n",
    "    return a + b\n",
    "\n",
    "a = 5\n",
    "b = 10\n",
    "hasil = penjumlahan(a, b)\n",
    "print(f\"Hasil penjumlahan {a} dan {b} adalah {hasil}\")"
   ]
  },
  {
   "cell_type": "code",
   "execution_count": 13,
   "id": "6907a1cc",
   "metadata": {},
   "outputs": [
    {
     "name": "stdout",
     "output_type": "stream",
     "text": [
      "Hasil penjumlahan 5 dan 10 adalah 15\n"
     ]
    }
   ],
   "source": [
    "## Indentasi dalam python sangat penting\n",
    "\n",
    "def penjumlahan(a, b):\n",
    "    return a + b\n",
    "\n",
    "a = 5\n",
    "b = 10\n",
    "hasil = penjumlahan(a, b)\n",
    "print(f\"Hasil penjumlahan {a} dan {b} adalah {hasil}\")"
   ]
  },
  {
   "cell_type": "markdown",
   "id": "d281d0a7",
   "metadata": {},
   "source": [
    "### Comment"
   ]
  },
  {
   "cell_type": "code",
   "execution_count": 14,
   "id": "f575bdd3",
   "metadata": {},
   "outputs": [],
   "source": [
    "## Comment dalam python\n",
    "\n",
    "# comment dapat menjadi penjelasan kode / file / fungsi , dll"
   ]
  },
  {
   "cell_type": "markdown",
   "id": "40571e40",
   "metadata": {},
   "source": [
    "### Variabel"
   ]
  },
  {
   "cell_type": "code",
   "execution_count": 15,
   "id": "f6830acf",
   "metadata": {},
   "outputs": [
    {
     "name": "stdout",
     "output_type": "stream",
     "text": [
      "Nama saya adalah Michael Strom, saat ini saya berumur 25\n"
     ]
    }
   ],
   "source": [
    "## Variabel digunakan untuk menyimpan value(nilai) yang dapat digunakan kembali dalam program\n",
    "\n",
    "Nama = \"Michael Strom\"\n",
    "Umur = 25 \n",
    "print(f\"Nama saya adalah {Nama}, saat ini saya berumur {Umur}\")"
   ]
  },
  {
   "cell_type": "code",
   "execution_count": 16,
   "id": "17a90995",
   "metadata": {},
   "outputs": [
    {
     "name": "stdout",
     "output_type": "stream",
     "text": [
      "Right now the time is 06:45\n"
     ]
    }
   ],
   "source": [
    "## Variabel jika menggunakan nama yang sama  \n",
    "# maka variabel akan menyimpan value terahkirnya\n",
    "\n",
    "Time = \"06:31\"\n",
    "Time = \"06:45\"\n",
    "print(f\"Right now the time is {Time}\")"
   ]
  },
  {
   "cell_type": "markdown",
   "id": "31157833",
   "metadata": {},
   "source": [
    "#### Penggunaaan Variabel yang disarankan"
   ]
  },
  {
   "cell_type": "code",
   "execution_count": 17,
   "id": "59fd00e5",
   "metadata": {},
   "outputs": [],
   "source": [
    "## Penggunaan Variabel yang baik dan dapat dibaca dengan jelas\n",
    "\n",
    "# Nama_Siswa = \"Yafi\" \n",
    "# Nama-siswa = \"Yafi\" #Nama variabel tidak terdeteksi\n",
    "# namaSiswa = \"Yafi\" #dapat dibaca tapi tidak disarankan\n",
    "# namasiswa = \"Yafi\" #jika terdaapat banyak line kode nama variabel seperti disamping tidak di sarankan"
   ]
  },
  {
   "cell_type": "code",
   "execution_count": 18,
   "id": "4ceaf07d",
   "metadata": {},
   "outputs": [
    {
     "name": "stdout",
     "output_type": "stream",
     "text": [
      "1\n",
      "1\n",
      "1\n"
     ]
    }
   ],
   "source": [
    "### Value dapat disimpan ke banyak variabel\n",
    "\n",
    "x = y = z = 1\n",
    "print(x)\n",
    "print(y)\n",
    "print(z)"
   ]
  },
  {
   "cell_type": "code",
   "execution_count": 19,
   "id": "640a3271",
   "metadata": {},
   "outputs": [
    {
     "name": "stdout",
     "output_type": "stream",
     "text": [
      "1\n",
      "2\n",
      "3\n"
     ]
    }
   ],
   "source": [
    "### Assign value dapat terdeteksi secara otomatis\n",
    "\n",
    "a, b, c = 1, 2, 3\n",
    "print(a)\n",
    "print(b)\n",
    "print(c)"
   ]
  },
  {
   "cell_type": "markdown",
   "id": "7ce9d2b3",
   "metadata": {},
   "source": [
    "#### Global Variabel dan lokal"
   ]
  },
  {
   "cell_type": "code",
   "execution_count": 20,
   "id": "094ea4c7",
   "metadata": {},
   "outputs": [
    {
     "name": "stdout",
     "output_type": "stream",
     "text": [
      "I love my country Indonesia\n"
     ]
    }
   ],
   "source": [
    "## Contoh Variabel global\n",
    "\n",
    "Negara = \"Indonesia\"\n",
    "\n",
    "def mycountry():\n",
    "    print(f\"I love my country {Negara}\")\n",
    "\n",
    "mycountry()"
   ]
  },
  {
   "cell_type": "code",
   "execution_count": 21,
   "id": "5e593d6b",
   "metadata": {},
   "outputs": [
    {
     "name": "stdout",
     "output_type": "stream",
     "text": [
      "I love my country England\n"
     ]
    }
   ],
   "source": [
    "## Contoh Variabel lokal\n",
    "def mycountry():\n",
    "    Negara = \"England\"\n",
    "    print(f\"I love my country {Negara}\")\n",
    "\n",
    "mycountry()"
   ]
  },
  {
   "cell_type": "code",
   "execution_count": 22,
   "id": "98dd77e1",
   "metadata": {},
   "outputs": [
    {
     "name": "stdout",
     "output_type": "stream",
     "text": [
      "I love England\n",
      "I love Indonesia\n"
     ]
    }
   ],
   "source": [
    "### Jika betabrakan antara global dan tidaknya\n",
    "\n",
    "Negara = \"Indonesia\"\n",
    "\n",
    "def mycountry():\n",
    "    Negara = \"England\"\n",
    "    print(f\"I love {Negara}\")\n",
    "\n",
    "mycountry() ## akan keluar output Negara = England\n",
    "\n",
    "print(f\"I love {Negara}\")\n"
   ]
  },
  {
   "cell_type": "code",
   "execution_count": 23,
   "id": "873a615c",
   "metadata": {},
   "outputs": [
    {
     "name": "stdout",
     "output_type": "stream",
     "text": [
      "My favorite color is : ['Black', 'Red', 'White', 'Purple']\n",
      "Most Favortie color is:\n",
      " ['Black', 'Purple']\n"
     ]
    }
   ],
   "source": [
    "## jika ingin mengubah variabel lokal ke global\n",
    "\n",
    "def fav_color():\n",
    "    global fav\n",
    "    fav = [\"Black\", \"Red\", \"White\", \"Purple\"]\n",
    "    print(f\"My favorite color is : {fav}\")\n",
    "\n",
    "fav_color()\n",
    "\n",
    "## menggunakan variabel lokal yg telah menjadi global\n",
    "most_favorite = fav[0:4:3]\n",
    "print(F\"Most Favortie color is:\\n {most_favorite}\")"
   ]
  },
  {
   "cell_type": "code",
   "execution_count": 24,
   "id": "cb71e518",
   "metadata": {},
   "outputs": [
    {
     "data": {
      "text/plain": [
       "'b'"
      ]
     },
     "execution_count": 24,
     "metadata": {},
     "output_type": "execute_result"
    }
   ],
   "source": [
    "B=[1,2,[3,'a'],[4,'b']]\n",
    "B[3][1]"
   ]
  },
  {
   "cell_type": "code",
   "execution_count": 25,
   "id": "28222ffe",
   "metadata": {},
   "outputs": [
    {
     "data": {
      "text/plain": [
       "[1, [2, 3, 4, 5]]"
      ]
     },
     "execution_count": 25,
     "metadata": {},
     "output_type": "execute_result"
    }
   ],
   "source": [
    "A = [1]\n",
    "A.append([2,3,4,5])\n",
    "A"
   ]
  },
  {
   "cell_type": "markdown",
   "id": "42eeb1dd",
   "metadata": {},
   "source": [
    "### Python Data Type"
   ]
  },
  {
   "cell_type": "code",
   "execution_count": 26,
   "id": "2b444963",
   "metadata": {},
   "outputs": [
    {
     "name": "stdout",
     "output_type": "stream",
     "text": [
      "<class 'str'>\n",
      "<class 'int'>\n",
      "<class 'float'>\n",
      "<class 'complex'>\n"
     ]
    }
   ],
   "source": [
    "## Beberapa contoh tipe data:\n",
    "\n",
    "# text : str\n",
    "nama = \"Yafi\"\n",
    "print(type(nama))\n",
    "\n",
    "# angka : int, float, complex\n",
    "umur = 34\n",
    "print(type(umur))\n",
    "luas_lingkaran = 3.61\n",
    "print(type(luas_lingkaran))\n",
    "Berat_kapal = 5000 + 2j\n",
    "print(type(Berat_kapal))"
   ]
  },
  {
   "cell_type": "code",
   "execution_count": 27,
   "id": "62d31036",
   "metadata": {},
   "outputs": [
    {
     "name": "stdout",
     "output_type": "stream",
     "text": [
      "<class 'list'>\n",
      "<class 'tuple'>\n",
      "<class 'dict'>\n",
      "<class 'set'>\n"
     ]
    }
   ],
   "source": [
    "# Sequence : list, tuple\n",
    "urutan_nama = [\"Arya\", \"Ananda\", \"Bagus\"]\n",
    "print(type(urutan_nama))\n",
    "\n",
    "abjad = (\"a\", \"b\", \"c\", \"d\", \"e\", \"f\")\n",
    "print(type(abjad))\n",
    "\n",
    "\n",
    "# map : dict\n",
    "Bio_data = {\"Nama\": \"Ari\", \"Umur\": 42, \"Pekerjaan\": \"Arsitek\"}\n",
    "print(type(Bio_data))\n",
    "\n",
    "\n",
    "# Set : set, frozenset \n",
    "list_belanja = {\"Mie\", \"Tepung\", \"Telur\"}\n",
    "print(type(list_belanja))\n"
   ]
  },
  {
   "cell_type": "code",
   "execution_count": 28,
   "id": "af43e81c",
   "metadata": {},
   "outputs": [
    {
     "name": "stdout",
     "output_type": "stream",
     "text": [
      "<class 'frozenset'>\n"
     ]
    }
   ],
   "source": [
    "## Frozenset\n",
    "Nilai_uas_final = frozenset({93, 78, 85, 94, 100, 77, 68, 80})\n",
    "print(type(Nilai_uas_final))"
   ]
  },
  {
   "cell_type": "code",
   "execution_count": 29,
   "id": "ff669f76",
   "metadata": {},
   "outputs": [
    {
     "name": "stdout",
     "output_type": "stream",
     "text": [
      "Nilai 100 adalah lulus\n",
      "Nilai 68 adalah tidak lulus\n",
      "Nilai 77 adalah tidak lulus\n",
      "Nilai 78 adalah tidak lulus\n",
      "Nilai 80 adalah lulus\n",
      "Nilai 85 adalah lulus\n",
      "Nilai 93 adalah lulus\n",
      "Nilai 94 adalah lulus\n",
      "<class 'bool'>\n",
      "<class 'bool'>\n"
     ]
    }
   ],
   "source": [
    "## Boolean \n",
    "nilai_A = True\n",
    "nilai_B = False\n",
    "\n",
    "for i in Nilai_uas_final:\n",
    "    if i >= 80:\n",
    "        print(f\"Nilai {i} adalah lulus\")\n",
    "    else:\n",
    "        print(f\"Nilai {i} adalah tidak lulus\")\n",
    "\n",
    "print(type(nilai_A))\n",
    "print(type(nilai_B))"
   ]
  }
 ],
 "metadata": {
  "kernelspec": {
   "display_name": "base",
   "language": "python",
   "name": "python3"
  },
  "language_info": {
   "codemirror_mode": {
    "name": "ipython",
    "version": 3
   },
   "file_extension": ".py",
   "mimetype": "text/x-python",
   "name": "python",
   "nbconvert_exporter": "python",
   "pygments_lexer": "ipython3",
   "version": "3.12.4"
  }
 },
 "nbformat": 4,
 "nbformat_minor": 5
}
