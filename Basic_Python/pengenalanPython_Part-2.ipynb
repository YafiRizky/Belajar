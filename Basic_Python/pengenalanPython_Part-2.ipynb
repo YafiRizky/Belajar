{
 "cells": [
  {
   "cell_type": "markdown",
   "id": "2734f1d1",
   "metadata": {},
   "source": [
    "## Casting"
   ]
  },
  {
   "cell_type": "code",
   "execution_count": null,
   "id": "90292004",
   "metadata": {},
   "outputs": [
    {
     "name": "stdout",
     "output_type": "stream",
     "text": [
      "Selamat Ulang tahun yang ke 18\n"
     ]
    }
   ],
   "source": [
    "## Casting dalam python digunakana untuk mengubah tipe data menjadi tipe data lain\n",
    "\n",
    "### contoh casting\n",
    "\n",
    "Usia = 18\n",
    "HappyBirthday = f\"Selamat Ulang tahun yang ke {str(Usia)}\" # mengubah tipe data integer menjadi string\n",
    "print(HappyBirthday)"
   ]
  },
  {
   "cell_type": "code",
   "execution_count": null,
   "id": "0b998a9a",
   "metadata": {},
   "outputs": [
    {
     "name": "stdout",
     "output_type": "stream",
     "text": [
      "Luas Lingkaran adalah: 12\n"
     ]
    }
   ],
   "source": [
    "## Luas Lingkaran\n",
    "import math\n",
    "\n",
    "pi = math.pi\n",
    "r = float(input(\"Masukan Jari-Jari Lingkaran: \"))\n",
    "\n",
    "Luas_Lingkaran = pi * (r ** 2)\n",
    "print(f\"Luas Lingkaran adalah: {int(Luas_Lingkaran)}\") # Diubah menjadi Nilai Bulat"
   ]
  },
  {
   "cell_type": "markdown",
   "id": "a7266341",
   "metadata": {},
   "source": [
    "## Strings"
   ]
  },
  {
   "cell_type": "code",
   "execution_count": 1,
   "id": "e8dfef4e",
   "metadata": {},
   "outputs": [
    {
     "name": "stdout",
     "output_type": "stream",
     "text": [
      "Hai\n",
      "Hello\n"
     ]
    }
   ],
   "source": [
    "## str biasanya menggunakan ' atau \"\n",
    "\n",
    "print('Hai')\n",
    "print(\"Hello\")"
   ]
  },
  {
   "cell_type": "code",
   "execution_count": 2,
   "id": "8c975193",
   "metadata": {},
   "outputs": [
    {
     "ename": "SyntaxError",
     "evalue": "unterminated string literal (detected at line 3) (2265266822.py, line 3)",
     "output_type": "error",
     "traceback": [
      "\u001b[1;36m  Cell \u001b[1;32mIn[2], line 3\u001b[1;36m\u001b[0m\n\u001b[1;33m    print('Haii\")\u001b[0m\n\u001b[1;37m          ^\u001b[0m\n\u001b[1;31mSyntaxError\u001b[0m\u001b[1;31m:\u001b[0m unterminated string literal (detected at line 3)\n"
     ]
    }
   ],
   "source": [
    "## Jika kita salah \n",
    "\n",
    "print('Haii\")"
   ]
  },
  {
   "cell_type": "markdown",
   "id": "98fd1a9f",
   "metadata": {},
   "source": [
    "#### Qoutes Inside Qoutes"
   ]
  },
  {
   "cell_type": "code",
   "execution_count": 4,
   "id": "face552e",
   "metadata": {},
   "outputs": [
    {
     "name": "stdout",
     "output_type": "stream",
     "text": [
      "Hey, Good's Morning \n",
      "Morning too, How's your day?\n"
     ]
    }
   ],
   "source": [
    "Gretings = \"Hey, Good's Morning\"\n",
    "Respond = \"Morning too, How's your day?\"\n",
    "Conversation = f\"{Gretings} \\n{Respond}\"\n",
    "print(Conversation)"
   ]
  },
  {
   "cell_type": "markdown",
   "id": "a5b8903c",
   "metadata": {},
   "source": [
    "#### Multi line string"
   ]
  },
  {
   "cell_type": "code",
   "execution_count": null,
   "id": "4e0de9df",
   "metadata": {},
   "outputs": [
    {
     "name": "stdout",
     "output_type": "stream",
     "text": [
      "Penjelasan singkat Python: \n",
      "Hai, semua hari ini kita akan belajar basic python.\n",
      "Python adalah bahasa pemograman high languange dan easy to read,\n",
      "python juga sering digunakan dalam ai dan Data science karena penggunaan\n",
      "Libary, framework ,dan komunitas yang selalu support\n"
     ]
    }
   ],
   "source": [
    "A = \"\"\"Hai, semua hari ini kita akan belajar basic python.\n",
    "Python adalah bahasa pemograman high languange dan easy to read,\n",
    "python juga sering digunakan dalam ai dan Data science karena penggunaan\n",
    "Libary, framework ,dan komunitas yang selalu support\"\"\" ## dapat juga menggunakan petik 1 { ''' ''' }\n",
    "\n",
    "print(f\"Penjelasan singkat Python: \\n{A}\")"
   ]
  },
  {
   "cell_type": "markdown",
   "id": "49498bc2",
   "metadata": {},
   "source": [
    "### String adalah array"
   ]
  },
  {
   "cell_type": "code",
   "execution_count": null,
   "id": "f4251989",
   "metadata": {},
   "outputs": [],
   "source": []
  }
 ],
 "metadata": {
  "kernelspec": {
   "display_name": "base",
   "language": "python",
   "name": "python3"
  },
  "language_info": {
   "codemirror_mode": {
    "name": "ipython",
    "version": 3
   },
   "file_extension": ".py",
   "mimetype": "text/x-python",
   "name": "python",
   "nbconvert_exporter": "python",
   "pygments_lexer": "ipython3",
   "version": "3.12.4"
  }
 },
 "nbformat": 4,
 "nbformat_minor": 5
}
