{
 "cells": [
  {
   "cell_type": "markdown",
   "id": "2734f1d1",
   "metadata": {},
   "source": [
    "## Casting"
   ]
  },
  {
   "cell_type": "code",
   "execution_count": null,
   "id": "90292004",
   "metadata": {},
   "outputs": [
    {
     "name": "stdout",
     "output_type": "stream",
     "text": [
      "Selamat Ulang tahun yang ke 18\n"
     ]
    }
   ],
   "source": [
    "## Casting dalam python digunakana untuk mengubah tipe data menjadi tipe data lain\n",
    "\n",
    "### contoh casting\n",
    "\n",
    "Usia = 18\n",
    "HappyBirthday = f\"Selamat Ulang tahun yang ke {str(Usia)}\" # mengubah tipe data integer menjadi string\n",
    "print(HappyBirthday)"
   ]
  },
  {
   "cell_type": "code",
   "execution_count": null,
   "id": "0b998a9a",
   "metadata": {},
   "outputs": [
    {
     "name": "stdout",
     "output_type": "stream",
     "text": [
      "Luas Lingkaran adalah: 12\n"
     ]
    }
   ],
   "source": [
    "## Luas Lingkaran\n",
    "import math\n",
    "\n",
    "pi = math.pi\n",
    "r = float(input(\"Masukan Jari-Jari Lingkaran: \"))\n",
    "\n",
    "Luas_Lingkaran = pi * (r ** 2)\n",
    "print(f\"Luas Lingkaran adalah: {int(Luas_Lingkaran)}\") # Diubah menjadi Nilai Bulat"
   ]
  },
  {
   "cell_type": "markdown",
   "id": "a7266341",
   "metadata": {},
   "source": [
    "## Strings"
   ]
  },
  {
   "cell_type": "code",
   "execution_count": null,
   "id": "e8dfef4e",
   "metadata": {},
   "outputs": [],
   "source": [
    "## str biasanya menggunakan ' atau \""
   ]
  }
 ],
 "metadata": {
  "kernelspec": {
   "display_name": "base",
   "language": "python",
   "name": "python3"
  },
  "language_info": {
   "codemirror_mode": {
    "name": "ipython",
    "version": 3
   },
   "file_extension": ".py",
   "mimetype": "text/x-python",
   "name": "python",
   "nbconvert_exporter": "python",
   "pygments_lexer": "ipython3",
   "version": "3.12.4"
  }
 },
 "nbformat": 4,
 "nbformat_minor": 5
}
