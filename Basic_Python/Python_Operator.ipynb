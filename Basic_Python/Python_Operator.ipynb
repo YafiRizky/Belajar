{
 "cells": [
  {
   "cell_type": "markdown",
   "id": "2062985d",
   "metadata": {},
   "source": [
    "# Operator dalam python"
   ]
  },
  {
   "cell_type": "markdown",
   "id": "d1456532",
   "metadata": {},
   "source": [
    "### Kelompok Operator dalam Python\n",
    "\n",
    "Python membagi operator ke dalam beberapa kelompok berikut:\n",
    "\n",
    "1. **Arithmetic Operators**  \n",
    "   Digunakan untuk operasi matematika dasar.\n",
    "\n",
    "2. **Assignment Operators**  \n",
    "   Digunakan untuk memberikan nilai ke variabel.\n",
    "\n",
    "3. **Comparison Operators**  \n",
    "   Digunakan untuk membandingkan dua nilai.\n",
    "\n",
    "4. **Logical Operators**  \n",
    "   Digunakan untuk menggabungkan pernyataan logika.\n",
    "\n",
    "5. **Identity Operators**  \n",
    "   Digunakan untuk membandingkan apakah dua variabel adalah objek yang sama.\n",
    "\n",
    "6. **Membership Operators**  \n",
    "   Digunakan untuk menguji apakah sebuah nilai merupakan anggota dari sebuah urutan (seperti list, tuple, string).\n",
    "\n",
    "7. **Bitwise Operators**  \n",
    "   Digunakan untuk operasi pada bit individu dari angka bilangan bulat.\n"
   ]
  },
  {
   "cell_type": "markdown",
   "id": "9a50323f",
   "metadata": {},
   "source": [
    "## Contoh Arimathic Operator"
   ]
  },
  {
   "cell_type": "code",
   "execution_count": null,
   "id": "e3729aff",
   "metadata": {},
   "outputs": [
    {
     "name": "stdout",
     "output_type": "stream",
     "text": [
      "100\n",
      "80\n",
      "10\n",
      "2.4\n",
      "2\n",
      "81\n"
     ]
    }
   ],
   "source": [
    "# Penjumlahan\n",
    "print(90 + 10)\n",
    "\n",
    "# Pengurangan\n",
    "print(90 - 10)\n",
    "\n",
    "# Perkalian\n",
    "print(2 * 5)\n",
    "\n",
    "# Pembagian\n",
    "print(12 / 5)\n",
    "\n",
    "# Modulus\n",
    "print(12 % 5)\n",
    "\n",
    "# Exponen / Pangkat\n",
    "print(9 ** 2)\n",
    "\n",
    "# "
   ]
  },
  {
   "cell_type": "markdown",
   "id": "0e9a37ce",
   "metadata": {},
   "source": [
    "### Daftar Operator Aritmatika:\n",
    "\n",
    "| Operator | Nama                | Deskripsi                                       | Contoh            | Hasil     |\n",
    "|----------|---------------------|------------------------------------------------|-------------------|-----------|\n",
    "| `+`      | Penjumlahan         | Menambahkan dua nilai                          | `5 + 3`           | `8`       |\n",
    "| `-`      | Pengurangan         | Mengurangi nilai kanan dari nilai kiri         | `10 - 4`          | `6`       |\n",
    "| `*`      | Perkalian           | Mengalikan dua nilai                           | `6 * 7`           | `42`      |\n",
    "| `/`      | Pembagian           | Membagi dua nilai dan menghasilkan `float`     | `10 / 4`          | `2.5`     |\n",
    "| `//`     | Floor Division      | Membagi dan membulatkan ke bawah (`int/float`) | `84 // 5`         | `16`      |\n",
    "| `%`      | Modulus (Sisa bagi) | Menghasilkan sisa pembagian                    | `10 % 3`          | `1`       |\n",
    "| `**`     | Pemangkatan         | Memangkatkan nilai kiri dengan nilai kanan     | `2 ** 3`          | `8`       |\n"
   ]
  },
  {
   "cell_type": "markdown",
   "id": "527fc55b",
   "metadata": {},
   "source": [
    "### Contoh Assigment Operator"
   ]
  },
  {
   "cell_type": "code",
   "execution_count": 17,
   "id": "98dde6a8",
   "metadata": {},
   "outputs": [
    {
     "name": "stdout",
     "output_type": "stream",
     "text": [
      "nilai x adalah 5\n",
      "Variabel Y adalah 5 + 15 yaitu = 20\n",
      "Nilai variabel z adalah 20 - 7 dan nilai z = 13\n",
      "13 x 3 yaitu adalah nilai variabel a yaitu = 39\n",
      "Hasil dari 39 / 4 adalah 9.75\n",
      "C adalah perhitungan dari modulus 39 % 5 yaitu : 4\n",
      "Floor division dari 39 // 2 adalah 19\n",
      "39 pangkat 2 = 1521\n"
     ]
    }
   ],
   "source": [
    "# operator assignment digunakan untuk memberikan value/nilai kepada variabel\n",
    "\n",
    "## =\n",
    "x = 5\n",
    "print(f\"nilai x adalah {x}\")\n",
    "\n",
    "## +=\n",
    "y = x + 15\n",
    "print(f\"Variabel Y adalah {x} + 15 yaitu = {y}\") \n",
    "\n",
    "## -=\n",
    "z = y - 7\n",
    "print(f\"Nilai variabel z adalah {y} - 7 dan nilai z = {z}\")\n",
    "\n",
    "## *=\n",
    "a = z * 3\n",
    "print(f\"{z} x 3 yaitu adalah nilai variabel a yaitu = {a}\")\n",
    "\n",
    "## /=\n",
    "b = a / 4\n",
    "print(f\"Hasil dari {a} / 4 adalah {b}\")\n",
    "\n",
    "## %=\n",
    "c = a % 5\n",
    "print(f\"C adalah perhitungan dari modulus {a} % 5 yaitu : {c}\")\n",
    "\n",
    "## //=\n",
    "d = a // 2\n",
    "print(f\"Floor division dari {a} // 2 adalah {d}\")\n",
    "\n",
    "## **=\n",
    "e = a ** 2\n",
    "print(f\"{a} pangkat 2 = {e}\")"
   ]
  },
  {
   "cell_type": "markdown",
   "id": "d03e453c",
   "metadata": {},
   "source": [
    "### Daftar Assignment Operators:\n",
    "\n",
    "| Operator | Contoh       | Sama Dengan       | Penjelasan Singkat                     |\n",
    "|----------|--------------|-------------------|----------------------------------------|\n",
    "| `=`      | `x = 5`      | `x = 5`           | Menetapkan nilai 5 ke variabel `x`     |\n",
    "| `+=`     | `x += 3`     | `x = x + 3`       | Menambahkan 3 ke nilai `x`             |\n",
    "| `-=`     | `x -= 3`     | `x = x - 3`       | Mengurangi `x` dengan 3                |\n",
    "| `*=`     | `x *= 3`     | `x = x * 3`       | Mengalikan `x` dengan 3                |\n",
    "| `/=`     | `x /= 3`     | `x = x / 3`       | Membagi `x` dengan 3                   |\n",
    "| `%=`     | `x %= 3`     | `x = x % 3`       | `x` diubah menjadi sisa dari `x ÷ 3`   |\n",
    "| `//=`    | `x //= 3`    | `x = x // 3`      | Floor division lalu simpan ke `x`      |\n",
    "| `**=`    | `x **= 3`    | `x = x ** 3`      | Pangkatkan `x` dengan 3                |\n",
    "\n"
   ]
  },
  {
   "cell_type": "markdown",
   "id": "96293a82",
   "metadata": {},
   "source": [
    "### Python Comparison Operator"
   ]
  },
  {
   "cell_type": "markdown",
   "id": "928c4aa0",
   "metadata": {},
   "source": [
    "##### Operator perbandingan atau membandingkan"
   ]
  },
  {
   "cell_type": "code",
   "execution_count": null,
   "id": "951d772a",
   "metadata": {},
   "outputs": [
    {
     "name": "stdout",
     "output_type": "stream",
     "text": [
      "False\n"
     ]
    }
   ],
   "source": [
    "## == (equal)\n",
    "x = 20 \n",
    "y = 25\n",
    "\n",
    "print(x == y) ## False karena value nya tidak lah sama"
   ]
  },
  {
   "cell_type": "code",
   "execution_count": 19,
   "id": "53e3e855",
   "metadata": {},
   "outputs": [
    {
     "name": "stdout",
     "output_type": "stream",
     "text": [
      "True\n"
     ]
    }
   ],
   "source": [
    "## != (not equal)\n",
    "x = 1\n",
    "y = 10\n",
    "\n",
    "print(x != y)"
   ]
  },
  {
   "cell_type": "code",
   "execution_count": 21,
   "id": "f2909711",
   "metadata": {},
   "outputs": [
    {
     "name": "stdout",
     "output_type": "stream",
     "text": [
      "Angka 30 jauh lebih besar dari 20\n"
     ]
    }
   ],
   "source": [
    "## > (Greater than)\n",
    "\n",
    "num_one = 20\n",
    "num_two = 30\n",
    "\n",
    "if num_two > num_one:\n",
    "    print(f\"Angka {num_two} jauh lebih besar dari {num_one}\")\n",
    "else:\n",
    "    print(\"Invalid\")"
   ]
  },
  {
   "cell_type": "code",
   "execution_count": 23,
   "id": "d7d88a58",
   "metadata": {},
   "outputs": [
    {
     "name": "stdout",
     "output_type": "stream",
     "text": [
      "Angka 20 lebih kecil dari 30\n"
     ]
    }
   ],
   "source": [
    "## < (less than)\n",
    "\n",
    "if num_one < num_two:\n",
    "    print(f\"Angka {num_one} lebih kecil dari {num_two}\")\n",
    "else:\n",
    "    print(\"Invalid\")"
   ]
  },
  {
   "cell_type": "code",
   "execution_count": null,
   "id": "9270e1db",
   "metadata": {},
   "outputs": [
    {
     "name": "stdout",
     "output_type": "stream",
     "text": [
      "Nilai 10 kecil dari 11\n"
     ]
    }
   ],
   "source": [
    "## >= ( Greater than or equal to)\n",
    "\n",
    "a = 10\n",
    "b = 11\n",
    "\n",
    "if a >= b:\n",
    "    print(f\"Nilai {b} lebih besar dari {a}\")\n",
    "else:\n",
    "    print(f\"Nilai {a} kecil dari {b}\")"
   ]
  },
  {
   "cell_type": "code",
   "execution_count": 26,
   "id": "da26aa77",
   "metadata": {},
   "outputs": [
    {
     "name": "stdout",
     "output_type": "stream",
     "text": [
      "Nilai 11 lebih besar dari 10\n"
     ]
    }
   ],
   "source": [
    "if a <= b:\n",
    "    print(f\"Nilai {b} lebih besar dari {a}\")\n",
    "else:\n",
    "    print(f\"Nilai {a} kecil dari {b}\")"
   ]
  },
  {
   "cell_type": "code",
   "execution_count": null,
   "id": "745b3fe5",
   "metadata": {},
   "outputs": [],
   "source": []
  }
 ],
 "metadata": {
  "kernelspec": {
   "display_name": "base",
   "language": "python",
   "name": "python3"
  },
  "language_info": {
   "codemirror_mode": {
    "name": "ipython",
    "version": 3
   },
   "file_extension": ".py",
   "mimetype": "text/x-python",
   "name": "python",
   "nbconvert_exporter": "python",
   "pygments_lexer": "ipython3",
   "version": "3.12.4"
  }
 },
 "nbformat": 4,
 "nbformat_minor": 5
}
