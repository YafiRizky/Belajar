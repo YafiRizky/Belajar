{
 "cells": [
  {
   "cell_type": "markdown",
   "id": "73e4b1ce",
   "metadata": {},
   "source": [
    "### Boolean"
   ]
  },
  {
   "cell_type": "markdown",
   "id": "8f0ea374",
   "metadata": {},
   "source": [
    "Pengertian dan Definisi Boolean\n",
    "Boolean adalah tipe data dalam pemrograman yang hanya memiliki dua nilai kemungkinan: True (benar) dan False (salah). Nama \"Boolean\" berasal dari nama matematikawan Inggris George Boole, yang mengembangkan dasar logika Boolean.\n",
    "\n",
    "Tipe data boolean digunakan untuk mengekspresikan logika atau kondisi dalam program, seperti hasil perbandingan, percabangan (if-else), dan pengulangan (looping) dengan syarat tertentu.|"
   ]
  },
  {
   "cell_type": "code",
   "execution_count": 1,
   "id": "5a3253ac",
   "metadata": {},
   "outputs": [
    {
     "data": {
      "text/plain": [
       "False"
      ]
     },
     "execution_count": 1,
     "metadata": {},
     "output_type": "execute_result"
    }
   ],
   "source": [
    "True  # Bool\n",
    "False # Bool"
   ]
  },
  {
   "cell_type": "markdown",
   "id": "5b838c92",
   "metadata": {},
   "source": [
    "##### Contoh"
   ]
  },
  {
   "cell_type": "code",
   "execution_count": 5,
   "id": "c96ee95c",
   "metadata": {},
   "outputs": [
    {
     "name": "stdout",
     "output_type": "stream",
     "text": [
      "False\n",
      "\n",
      "True\n",
      "\n",
      "False\n"
     ]
    }
   ],
   "source": [
    "a = 10\n",
    "b = 5\n",
    "\n",
    "print(a == b) ## Apakah Nilai a = b??\n",
    "print(f\"\\n{(a > b)}\") ## Apakah nilai a jauh lebih besar dari b?\n",
    "print(f\"\\n{(b >= a)}\") # Apakah nilai b sama atau jauh lebih besar dari a?\n"
   ]
  },
  {
   "cell_type": "code",
   "execution_count": 6,
   "id": "a99260a5",
   "metadata": {},
   "outputs": [
    {
     "name": "stdout",
     "output_type": "stream",
     "text": [
      "True\n",
      "True\n"
     ]
    }
   ],
   "source": [
    "print(bool(\"Hello\"))\n",
    "print(bool(15))"
   ]
  },
  {
   "cell_type": "code",
   "execution_count": 7,
   "id": "5c4ac8a4",
   "metadata": {},
   "outputs": [
    {
     "name": "stdout",
     "output_type": "stream",
     "text": [
      "True\n",
      "True\n"
     ]
    }
   ],
   "source": [
    "x = \"Hello\"\n",
    "y = 15\n",
    "\n",
    "print(bool(x))\n",
    "print(bool(y))"
   ]
  },
  {
   "cell_type": "code",
   "execution_count": 2,
   "id": "a945eec1",
   "metadata": {},
   "outputs": [
    {
     "name": "stdout",
     "output_type": "stream",
     "text": [
      "92 Memiliki nilai lebih tinggi dari 90\n"
     ]
    }
   ],
   "source": [
    "def int_input(prompt):\n",
    "    while True:\n",
    "        try:\n",
    "            value = int(input(prompt))\n",
    "            return value\n",
    "        except ValueError:\n",
    "            print(\"Masukan Bilangan Bulat!\")\n",
    "\n",
    "A = int_input(\"Masukan Bilangan Pertama: \")\n",
    "B = int_input(\"Masukan Bilangan Kedua: \")\n",
    "\n",
    "# Logic nya\n",
    "if A > B:\n",
    "    print(f\"{A} Memiliki nilai lebih tinggi dari {B}\")\n",
    "elif A < B:\n",
    "    print(f\"{B} Memiliki nilai lebih tinggi dari {A}\")\n",
    "else:\n",
    "    print(f\"Nilai {A} & {B} memiliki nilai yang sama\")"
   ]
  },
  {
   "cell_type": "markdown",
   "id": "c6ec6bb5",
   "metadata": {},
   "source": [
    "## 📘 Evaluasi Nilai dan Variabel dengan `bool()`\n",
    "\n",
    "Fungsi `bool()` di Python digunakan untuk mengevaluasi sebuah nilai dan mengembalikan hasil `True` atau `False`, tergantung apakah nilai tersebut dianggap ada (*truthy*) atau kosong/tidak ada (*falsy*).\n",
    "\n",
    "---\n",
    "\n",
    "### 1. Contoh Evaluasi Langsung\n",
    "\n",
    "```python\n",
    "print(bool(\"Hello\"))  # True\n",
    "print(bool(15))       # True\n",
    "```\n",
    "\n",
    "---\n",
    "\n",
    "### 2. Contoh Evaluasi Variabel\n",
    "\n",
    "```python\n",
    "x = \"Hello\"\n",
    "y = 15\n",
    "\n",
    "print(bool(x))  # True\n",
    "print(bool(y))  # True\n",
    "```\n",
    "\n",
    "---\n",
    "\n",
    "### 3. Nilai-Nilai yang Bernilai **True**\n",
    "\n",
    "Nilai akan dianggap **True** jika:\n",
    "- Memiliki isi/konten\n",
    "- Tidak kosong\n",
    "- Tidak bernilai nol (`0`, `0.0`, dll)\n",
    "\n",
    "| Tipe Data  | Contoh             | Hasil `bool()` |\n",
    "|------------|--------------------|----------------|\n",
    "| String     | `\"Python\"`         | `True`         |\n",
    "| Integer    | `15`               | `True`         |\n",
    "| Float      | `3.14`             | `True`         |\n",
    "| List       | `[1, 2, 3]`        | `True`         |\n",
    "| Tuple      | `(0,)`             | `True`         |\n",
    "| Dictionary | `{\"a\": 1}`         | `True`         |\n",
    "| Set        | `{1, 2}`           | `True`         |\n",
    "\n",
    "---\n",
    "\n",
    "### 4. Nilai-Nilai yang Bernilai **False**\n",
    "\n",
    "Nilai akan dianggap **False** jika:\n",
    "- Kosong\n",
    "- Tidak memiliki konten\n",
    "- Bernilai nol\n",
    "\n",
    "| Tipe Data  | Contoh             | Hasil `bool()` |\n",
    "|------------|--------------------|----------------|\n",
    "| String     | `\"\"`               | `False`        |\n",
    "| Integer    | `0`                | `False`        |\n",
    "| Float      | `0.0`              | `False`        |\n",
    "| List       | `[]`               | `False`        |\n",
    "| Tuple      | `()`               | `False`        |\n",
    "| Dictionary | `{}`               | `False`        |\n",
    "| Set        | `set()`            | `False`        |\n",
    "| NoneType   | `None`             | `False`        |\n",
    "\n",
    "---\n",
    "\n",
    "### 5. Contoh Lengkap\n",
    "\n",
    "```python\n",
    "print(bool(\"Python\"))     # True\n",
    "print(bool(0))            # False\n",
    "print(bool([]))           # False\n",
    "print(bool([1, 2]))       # True\n",
    "print(bool(None))         # False\n",
    "```\n",
    "\n",
    "---\n",
    "\n",
    "### 6. Contoh Penggunaan di Kondisi\n",
    "\n",
    "```python\n",
    "name = input(\"Masukkan nama: \")\n",
    "\n",
    "if name:\n",
    "    print(\"Halo,\", name)\n",
    "else:\n",
    "    print(\"Nama tidak boleh kosong!\")\n",
    "```\n",
    "\n",
    "---\n",
    "\n",
    "### 💡 Kesimpulan\n",
    "\n",
    "Python mengikuti prinsip:\n",
    "\n",
    "> **\"Sesuatu yang ada → True. Sesuatu yang kosong/tidak ada → False.\"**\n"
   ]
  }
 ],
 "metadata": {
  "kernelspec": {
   "display_name": "base",
   "language": "python",
   "name": "python3"
  },
  "language_info": {
   "codemirror_mode": {
    "name": "ipython",
    "version": 3
   },
   "file_extension": ".py",
   "mimetype": "text/x-python",
   "name": "python",
   "nbconvert_exporter": "python",
   "pygments_lexer": "ipython3",
   "version": "3.12.4"
  }
 },
 "nbformat": 4,
 "nbformat_minor": 5
}
